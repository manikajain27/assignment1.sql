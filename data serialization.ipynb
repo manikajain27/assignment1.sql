{
 "cells": [
  {
   "cell_type": "code",
   "execution_count": 8,
   "id": "7f6bc983",
   "metadata": {},
   "outputs": [
    {
     "name": "stdout",
     "output_type": "stream",
     "text": [
      "Requirement already satisfied: numpy in c:\\users\\amitj\\anaconda3\\lib\\site-packages (2.1.3)\n",
      "Note: you may need to restart the kernel to use updated packages.\n"
     ]
    }
   ],
   "source": [
    "%pip install numpy"
   ]
  },
  {
   "cell_type": "code",
   "execution_count": 9,
   "id": "2e8c1a7c",
   "metadata": {},
   "outputs": [
    {
     "name": "stdout",
     "output_type": "stream",
     "text": [
      "[1 2 3 4 5] <class 'numpy.ndarray'>\n",
      "(5,)\n"
     ]
    }
   ],
   "source": [
    "import numpy as np\n",
    "#create an array using numpy\n",
    "#creating an 1D array\n",
    "arr1 = np.array([1,2,3,4,5])\n",
    "print(arr1,type(arr1))\n",
    "print(arr1.shape)"
   ]
  },
  {
   "cell_type": "code",
   "execution_count": 10,
   "id": "fc7706d6",
   "metadata": {},
   "outputs": [
    {
     "data": {
      "text/plain": [
       "array([[1, 2, 3, 4, 5, 6]])"
      ]
     },
     "execution_count": 10,
     "metadata": {},
     "output_type": "execute_result"
    }
   ],
   "source": [
    "arr2 = np.array([1,2,3,4,5,6])\n",
    "arr2.reshape(1,6) #1 row and 5 columns"
   ]
  },
  {
   "cell_type": "code",
   "execution_count": 11,
   "id": "ca658608",
   "metadata": {},
   "outputs": [
    {
     "name": "stdout",
     "output_type": "stream",
     "text": [
      "[[1 2 3 4 5 6]\n",
      " [2 3 4 7 8 9]]\n"
     ]
    },
    {
     "data": {
      "text/plain": [
       "(2, 6)"
      ]
     },
     "execution_count": 11,
     "metadata": {},
     "output_type": "execute_result"
    }
   ],
   "source": [
    "#2D array\n",
    "arr2 = np.array([[1,2,3,4,5,6],[2,3,4,7,8,9]])\n",
    "print(arr2)\n",
    "arr2.shape"
   ]
  },
  {
   "cell_type": "code",
   "execution_count": 12,
   "id": "f65d44a1",
   "metadata": {},
   "outputs": [
    {
     "data": {
      "text/plain": [
       "array([[0],\n",
       "       [2],\n",
       "       [4],\n",
       "       [6],\n",
       "       [8]])"
      ]
     },
     "execution_count": 12,
     "metadata": {},
     "output_type": "execute_result"
    }
   ],
   "source": [
    "np.arange(0,10,2).reshape(5,1)"
   ]
  },
  {
   "cell_type": "code",
   "execution_count": 13,
   "id": "92daea56",
   "metadata": {},
   "outputs": [
    {
     "data": {
      "text/plain": [
       "array([[1., 1., 1., 1.],\n",
       "       [1., 1., 1., 1.],\n",
       "       [1., 1., 1., 1.]])"
      ]
     },
     "execution_count": 13,
     "metadata": {},
     "output_type": "execute_result"
    }
   ],
   "source": [
    "np.ones((3,4))"
   ]
  },
  {
   "cell_type": "code",
   "execution_count": 14,
   "id": "319dc290",
   "metadata": {},
   "outputs": [
    {
     "data": {
      "text/plain": [
       "array([[1., 0., 0.],\n",
       "       [0., 1., 0.],\n",
       "       [0., 0., 1.]])"
      ]
     },
     "execution_count": 14,
     "metadata": {},
     "output_type": "execute_result"
    }
   ],
   "source": [
    "np.eye(3) #identity matrix"
   ]
  },
  {
   "cell_type": "code",
   "execution_count": 15,
   "id": "8cac9b0e",
   "metadata": {},
   "outputs": [
    {
     "name": "stdout",
     "output_type": "stream",
     "text": [
      "array:\n",
      " [[1 2 3]\n",
      " [4 5 6]]\n",
      "<class 'numpy.ndarray'>\n",
      "no of dimensions: 2\n",
      "size(no.of elements): 6\n",
      "data type: int64\n",
      "item size(in bytes): 8\n"
     ]
    }
   ],
   "source": [
    "#attributes\n",
    "arr = np.array([[1,2,3],[4,5,6]])\n",
    "\n",
    "print(\"array:\\n\",arr)\n",
    "print(type(arr))\n",
    "print(\"no of dimensions:\",arr.ndim)\n",
    "print(\"size(no.of elements):\",arr.size)\n",
    "print(\"data type:\",arr.dtype)\n",
    "print(\"item size(in bytes):\",arr.itemsize)"
   ]
  },
  {
   "cell_type": "code",
   "execution_count": 16,
   "id": "ceb61562",
   "metadata": {},
   "outputs": [
    {
     "name": "stdout",
     "output_type": "stream",
     "text": [
      "Addition: [11 22 33 44 55]\n",
      "substraction: [ -9 -18 -27 -36 -45]\n"
     ]
    }
   ],
   "source": [
    "###numpy vectorized operation\n",
    "\n",
    "arr1 = np.array([1,2,3,4,5])\n",
    "arr2 = np.array([10,20,30,40,50])\n",
    "#elements wise:-\n",
    "print(\"Addition:\",arr1+arr2)\n",
    "print(\"substraction:\",arr1-arr2)"
   ]
  },
  {
   "cell_type": "code",
   "execution_count": 17,
   "id": "aec28359",
   "metadata": {},
   "outputs": [
    {
     "name": "stdout",
     "output_type": "stream",
     "text": [
      "[1.         1.41421356 1.73205081 2.         2.23606798]\n",
      "[  2.71828183   7.3890561   20.08553692  54.59815003 148.4131591 ]\n",
      "[0.         0.69314718 1.09861229 1.38629436 1.60943791]\n"
     ]
    }
   ],
   "source": [
    "#universal function\n",
    "arr=np.array([1,2,3,4,5])\n",
    "print(np.sqrt(arr))\n",
    "print(np.exp(arr))\n",
    "print(np.log(arr))"
   ]
  },
  {
   "cell_type": "code",
   "execution_count": 18,
   "id": "4ba11c8a",
   "metadata": {},
   "outputs": [
    {
     "name": "stdout",
     "output_type": "stream",
     "text": [
      "[[ 1  2  3  4]\n",
      " [ 5  6  7  8]\n",
      " [ 9 10 11 12]]\n",
      "[[ 7  8]\n",
      " [11 12]]\n",
      "[[3 4]\n",
      " [7 8]]\n",
      "[[ 2  3]\n",
      " [ 6  7]\n",
      " [10 11]]\n"
     ]
    }
   ],
   "source": [
    "#indexing and slicing\n",
    "arr = np.array([[1,2,3,4],[5,6,7,8],[9,10,11,12]])\n",
    "print(arr)\n",
    "\n",
    "print(arr[1:,2:])\n",
    "print(arr[0:2,2:])\n",
    "print(arr[0:,1:3])"
   ]
  },
  {
   "cell_type": "code",
   "execution_count": 19,
   "id": "3eb21984",
   "metadata": {},
   "outputs": [
    {
     "name": "stdout",
     "output_type": "stream",
     "text": [
      "[[100   2   3   4]\n",
      " [  5   6   7   8]\n",
      " [  9  10  11  12]]\n"
     ]
    }
   ],
   "source": [
    "#modify the element\n",
    "arr[0,0]= 100\n",
    "print(arr)"
   ]
  },
  {
   "cell_type": "code",
   "execution_count": 20,
   "id": "a41e4322",
   "metadata": {},
   "outputs": [
    {
     "name": "stdout",
     "output_type": "stream",
     "text": [
      "[[100 100   3   4]\n",
      " [100 100   7   8]\n",
      " [100 100  11  12]]\n"
     ]
    }
   ],
   "source": [
    "arr[0:,0:2]= 100\n",
    "print(arr)"
   ]
  },
  {
   "cell_type": "code",
   "execution_count": 21,
   "id": "a5c6588f",
   "metadata": {},
   "outputs": [
    {
     "name": "stdout",
     "output_type": "stream",
     "text": [
      "Requirement already satisfied: pandas in c:\\users\\amitj\\anaconda3\\lib\\site-packages (2.2.3)\n",
      "Requirement already satisfied: numpy>=1.26.0 in c:\\users\\amitj\\anaconda3\\lib\\site-packages (from pandas) (2.1.3)\n",
      "Requirement already satisfied: python-dateutil>=2.8.2 in c:\\users\\amitj\\anaconda3\\lib\\site-packages (from pandas) (2.9.0.post0)\n",
      "Requirement already satisfied: pytz>=2020.1 in c:\\users\\amitj\\anaconda3\\lib\\site-packages (from pandas) (2024.1)\n",
      "Requirement already satisfied: tzdata>=2022.7 in c:\\users\\amitj\\anaconda3\\lib\\site-packages (from pandas) (2025.2)\n",
      "Requirement already satisfied: six>=1.5 in c:\\users\\amitj\\anaconda3\\lib\\site-packages (from python-dateutil>=2.8.2->pandas) (1.17.0)\n",
      "Note: you may need to restart the kernel to use updated packages.\n"
     ]
    }
   ],
   "source": [
    "%pip install pandas"
   ]
  },
  {
   "cell_type": "code",
   "execution_count": 22,
   "id": "30abb163",
   "metadata": {},
   "outputs": [
    {
     "name": "stdout",
     "output_type": "stream",
     "text": [
      "series:\n",
      " 0    1\n",
      "1    2\n",
      "2    3\n",
      "3    4\n",
      "4    5\n",
      "dtype: int64\n",
      "<class 'pandas.core.series.Series'>\n"
     ]
    }
   ],
   "source": [
    "import pandas as pd\n",
    "data = [1,2,3,4,5]\n",
    "series = pd.Series(data)\n",
    "print(\"series:\\n\",series)\n",
    "print(type(series))"
   ]
  },
  {
   "cell_type": "code",
   "execution_count": 23,
   "id": "f765ba43",
   "metadata": {},
   "outputs": [
    {
     "name": "stdout",
     "output_type": "stream",
     "text": [
      "a    1\n",
      "b    2\n",
      "c    3\n",
      "dtype: int64\n"
     ]
    }
   ],
   "source": [
    "data = {'a':1,'b':2,'c':3}\n",
    "print(pd.Series(data))"
   ]
  },
  {
   "cell_type": "code",
   "execution_count": 24,
   "id": "0bd0aaf1",
   "metadata": {},
   "outputs": [
    {
     "name": "stdout",
     "output_type": "stream",
     "text": [
      "a    10\n",
      "b    20\n",
      "c    30\n",
      "dtype: int64\n"
     ]
    }
   ],
   "source": [
    "data = [10,20,30]\n",
    "index = ['a','b','c']\n",
    "print(pd.Series(data, index=index))"
   ]
  },
  {
   "cell_type": "code",
   "execution_count": 25,
   "id": "45a10161",
   "metadata": {},
   "outputs": [
    {
     "name": "stdout",
     "output_type": "stream",
     "text": [
      "   Name  Age       City\n",
      "0  Jack   30  Bangalore\n",
      "1  John   29  Hyderabad\n",
      "2  Elle   27     Mumbai\n"
     ]
    },
    {
     "data": {
      "text/plain": [
       "array([['Jack', 30, 'Bangalore'],\n",
       "       ['John', 29, 'Hyderabad'],\n",
       "       ['Elle', 27, 'Mumbai']], dtype=object)"
      ]
     },
     "execution_count": 25,
     "metadata": {},
     "output_type": "execute_result"
    }
   ],
   "source": [
    "#dataframe\n",
    "data = {\n",
    "    'Name':['Jack','John','Elle'],\n",
    "    'Age':[30,29,27],\n",
    "    'City':['Bangalore','Hyderabad','Mumbai']\n",
    "}\n",
    "df = pd.DataFrame(data)\n",
    "print(pd.DataFrame(data))\n",
    "np.array(df)"
   ]
  },
  {
   "cell_type": "code",
   "execution_count": 26,
   "id": "bccd8e38",
   "metadata": {},
   "outputs": [
    {
     "data": {
      "text/plain": [
       "Name         John\n",
       "Age            29\n",
       "City    Hyderabad\n",
       "Name: 1, dtype: object"
      ]
     },
     "execution_count": 26,
     "metadata": {},
     "output_type": "execute_result"
    }
   ],
   "source": [
    "df.loc[1]"
   ]
  },
  {
   "cell_type": "code",
   "execution_count": 27,
   "id": "35a64899",
   "metadata": {},
   "outputs": [
    {
     "data": {
      "text/plain": [
       "0    Jack\n",
       "1    John\n",
       "2    Elle\n",
       "Name: Name, dtype: object"
      ]
     },
     "execution_count": 27,
     "metadata": {},
     "output_type": "execute_result"
    }
   ],
   "source": [
    "df['Name']"
   ]
  },
  {
   "cell_type": "code",
   "execution_count": 28,
   "id": "10805edd",
   "metadata": {},
   "outputs": [
    {
     "name": "stderr",
     "output_type": "stream",
     "text": [
      "C:\\Users\\amitj\\AppData\\Local\\Temp\\ipykernel_8000\\2900375399.py:1: FutureWarning: Series.__getitem__ treating keys as positions is deprecated. In a future version, integer keys will always be treated as labels (consistent with DataFrame behavior). To access a value by position, use `ser.iloc[pos]`\n",
      "  df.iloc[0][0]\n"
     ]
    },
    {
     "data": {
      "text/plain": [
       "'Jack'"
      ]
     },
     "execution_count": 28,
     "metadata": {},
     "output_type": "execute_result"
    }
   ],
   "source": [
    "df.iloc[0][0]"
   ]
  },
  {
   "cell_type": "code",
   "execution_count": 29,
   "id": "e8569a7a",
   "metadata": {},
   "outputs": [
    {
     "data": {
      "text/html": [
       "<div>\n",
       "<style scoped>\n",
       "    .dataframe tbody tr th:only-of-type {\n",
       "        vertical-align: middle;\n",
       "    }\n",
       "\n",
       "    .dataframe tbody tr th {\n",
       "        vertical-align: top;\n",
       "    }\n",
       "\n",
       "    .dataframe thead th {\n",
       "        text-align: right;\n",
       "    }\n",
       "</style>\n",
       "<table border=\"1\" class=\"dataframe\">\n",
       "  <thead>\n",
       "    <tr style=\"text-align: right;\">\n",
       "      <th></th>\n",
       "      <th>Name</th>\n",
       "      <th>Age</th>\n",
       "      <th>City</th>\n",
       "    </tr>\n",
       "  </thead>\n",
       "  <tbody>\n",
       "    <tr>\n",
       "      <th>0</th>\n",
       "      <td>Jack</td>\n",
       "      <td>30</td>\n",
       "      <td>Bangalore</td>\n",
       "    </tr>\n",
       "    <tr>\n",
       "      <th>1</th>\n",
       "      <td>John</td>\n",
       "      <td>29</td>\n",
       "      <td>Hyderabad</td>\n",
       "    </tr>\n",
       "    <tr>\n",
       "      <th>2</th>\n",
       "      <td>Elle</td>\n",
       "      <td>27</td>\n",
       "      <td>Mumbai</td>\n",
       "    </tr>\n",
       "  </tbody>\n",
       "</table>\n",
       "</div>"
      ],
      "text/plain": [
       "   Name  Age       City\n",
       "0  Jack   30  Bangalore\n",
       "1  John   29  Hyderabad\n",
       "2  Elle   27     Mumbai"
      ]
     },
     "execution_count": 29,
     "metadata": {},
     "output_type": "execute_result"
    }
   ],
   "source": [
    "df"
   ]
  },
  {
   "cell_type": "code",
   "execution_count": 30,
   "id": "18c0615c",
   "metadata": {},
   "outputs": [
    {
     "data": {
      "text/plain": [
       "np.int64(29)"
      ]
     },
     "execution_count": 30,
     "metadata": {},
     "output_type": "execute_result"
    }
   ],
   "source": [
    "df.at[1,'Age']"
   ]
  },
  {
   "cell_type": "code",
   "execution_count": 31,
   "id": "b17530b6",
   "metadata": {},
   "outputs": [
    {
     "data": {
      "text/plain": [
       "'Hyderabad'"
      ]
     },
     "execution_count": 31,
     "metadata": {},
     "output_type": "execute_result"
    }
   ],
   "source": [
    "df.iat[1,2]"
   ]
  },
  {
   "cell_type": "code",
   "execution_count": 32,
   "id": "fcdf0b9c",
   "metadata": {},
   "outputs": [],
   "source": [
    "#adding a column\n",
    "df['Salary']=[50000,20000, 60000 ]"
   ]
  },
  {
   "cell_type": "code",
   "execution_count": 33,
   "id": "d9d4152f",
   "metadata": {},
   "outputs": [
    {
     "data": {
      "text/html": [
       "<div>\n",
       "<style scoped>\n",
       "    .dataframe tbody tr th:only-of-type {\n",
       "        vertical-align: middle;\n",
       "    }\n",
       "\n",
       "    .dataframe tbody tr th {\n",
       "        vertical-align: top;\n",
       "    }\n",
       "\n",
       "    .dataframe thead th {\n",
       "        text-align: right;\n",
       "    }\n",
       "</style>\n",
       "<table border=\"1\" class=\"dataframe\">\n",
       "  <thead>\n",
       "    <tr style=\"text-align: right;\">\n",
       "      <th></th>\n",
       "      <th>Name</th>\n",
       "      <th>Age</th>\n",
       "      <th>City</th>\n",
       "      <th>Salary</th>\n",
       "    </tr>\n",
       "  </thead>\n",
       "  <tbody>\n",
       "    <tr>\n",
       "      <th>0</th>\n",
       "      <td>Jack</td>\n",
       "      <td>30</td>\n",
       "      <td>Bangalore</td>\n",
       "      <td>50000</td>\n",
       "    </tr>\n",
       "    <tr>\n",
       "      <th>1</th>\n",
       "      <td>John</td>\n",
       "      <td>29</td>\n",
       "      <td>Hyderabad</td>\n",
       "      <td>20000</td>\n",
       "    </tr>\n",
       "    <tr>\n",
       "      <th>2</th>\n",
       "      <td>Elle</td>\n",
       "      <td>27</td>\n",
       "      <td>Mumbai</td>\n",
       "      <td>60000</td>\n",
       "    </tr>\n",
       "  </tbody>\n",
       "</table>\n",
       "</div>"
      ],
      "text/plain": [
       "   Name  Age       City  Salary\n",
       "0  Jack   30  Bangalore   50000\n",
       "1  John   29  Hyderabad   20000\n",
       "2  Elle   27     Mumbai   60000"
      ]
     },
     "execution_count": 33,
     "metadata": {},
     "output_type": "execute_result"
    }
   ],
   "source": [
    "df"
   ]
  },
  {
   "cell_type": "code",
   "execution_count": 34,
   "id": "f998a0ef",
   "metadata": {},
   "outputs": [
    {
     "data": {
      "text/html": [
       "<div>\n",
       "<style scoped>\n",
       "    .dataframe tbody tr th:only-of-type {\n",
       "        vertical-align: middle;\n",
       "    }\n",
       "\n",
       "    .dataframe tbody tr th {\n",
       "        vertical-align: top;\n",
       "    }\n",
       "\n",
       "    .dataframe thead th {\n",
       "        text-align: right;\n",
       "    }\n",
       "</style>\n",
       "<table border=\"1\" class=\"dataframe\">\n",
       "  <thead>\n",
       "    <tr style=\"text-align: right;\">\n",
       "      <th></th>\n",
       "      <th>Name</th>\n",
       "      <th>Age</th>\n",
       "      <th>City</th>\n",
       "    </tr>\n",
       "  </thead>\n",
       "  <tbody>\n",
       "    <tr>\n",
       "      <th>0</th>\n",
       "      <td>Jack</td>\n",
       "      <td>30</td>\n",
       "      <td>Bangalore</td>\n",
       "    </tr>\n",
       "    <tr>\n",
       "      <th>1</th>\n",
       "      <td>John</td>\n",
       "      <td>29</td>\n",
       "      <td>Hyderabad</td>\n",
       "    </tr>\n",
       "    <tr>\n",
       "      <th>2</th>\n",
       "      <td>Elle</td>\n",
       "      <td>27</td>\n",
       "      <td>Mumbai</td>\n",
       "    </tr>\n",
       "  </tbody>\n",
       "</table>\n",
       "</div>"
      ],
      "text/plain": [
       "   Name  Age       City\n",
       "0  Jack   30  Bangalore\n",
       "1  John   29  Hyderabad\n",
       "2  Elle   27     Mumbai"
      ]
     },
     "execution_count": 34,
     "metadata": {},
     "output_type": "execute_result"
    }
   ],
   "source": [
    "df.drop('Salary',axis=1)"
   ]
  },
  {
   "cell_type": "code",
   "execution_count": 35,
   "id": "91ba3f05",
   "metadata": {},
   "outputs": [
    {
     "data": {
      "text/html": [
       "<div>\n",
       "<style scoped>\n",
       "    .dataframe tbody tr th:only-of-type {\n",
       "        vertical-align: middle;\n",
       "    }\n",
       "\n",
       "    .dataframe tbody tr th {\n",
       "        vertical-align: top;\n",
       "    }\n",
       "\n",
       "    .dataframe thead th {\n",
       "        text-align: right;\n",
       "    }\n",
       "</style>\n",
       "<table border=\"1\" class=\"dataframe\">\n",
       "  <thead>\n",
       "    <tr style=\"text-align: right;\">\n",
       "      <th></th>\n",
       "      <th>Name</th>\n",
       "      <th>Age</th>\n",
       "      <th>City</th>\n",
       "      <th>Salary</th>\n",
       "    </tr>\n",
       "  </thead>\n",
       "  <tbody>\n",
       "    <tr>\n",
       "      <th>0</th>\n",
       "      <td>Jack</td>\n",
       "      <td>30</td>\n",
       "      <td>Bangalore</td>\n",
       "      <td>50000</td>\n",
       "    </tr>\n",
       "    <tr>\n",
       "      <th>1</th>\n",
       "      <td>John</td>\n",
       "      <td>29</td>\n",
       "      <td>Hyderabad</td>\n",
       "      <td>20000</td>\n",
       "    </tr>\n",
       "    <tr>\n",
       "      <th>2</th>\n",
       "      <td>Elle</td>\n",
       "      <td>27</td>\n",
       "      <td>Mumbai</td>\n",
       "      <td>60000</td>\n",
       "    </tr>\n",
       "  </tbody>\n",
       "</table>\n",
       "</div>"
      ],
      "text/plain": [
       "   Name  Age       City  Salary\n",
       "0  Jack   30  Bangalore   50000\n",
       "1  John   29  Hyderabad   20000\n",
       "2  Elle   27     Mumbai   60000"
      ]
     },
     "execution_count": 35,
     "metadata": {},
     "output_type": "execute_result"
    }
   ],
   "source": [
    "df"
   ]
  },
  {
   "cell_type": "code",
   "execution_count": 36,
   "id": "42ad9346",
   "metadata": {},
   "outputs": [],
   "source": [
    "df.drop('Salary',axis=1,inplace=True)"
   ]
  },
  {
   "cell_type": "code",
   "execution_count": 37,
   "id": "8af44c08",
   "metadata": {},
   "outputs": [
    {
     "data": {
      "text/html": [
       "<div>\n",
       "<style scoped>\n",
       "    .dataframe tbody tr th:only-of-type {\n",
       "        vertical-align: middle;\n",
       "    }\n",
       "\n",
       "    .dataframe tbody tr th {\n",
       "        vertical-align: top;\n",
       "    }\n",
       "\n",
       "    .dataframe thead th {\n",
       "        text-align: right;\n",
       "    }\n",
       "</style>\n",
       "<table border=\"1\" class=\"dataframe\">\n",
       "  <thead>\n",
       "    <tr style=\"text-align: right;\">\n",
       "      <th></th>\n",
       "      <th>Name</th>\n",
       "      <th>Age</th>\n",
       "      <th>City</th>\n",
       "    </tr>\n",
       "  </thead>\n",
       "  <tbody>\n",
       "    <tr>\n",
       "      <th>0</th>\n",
       "      <td>Jack</td>\n",
       "      <td>30</td>\n",
       "      <td>Bangalore</td>\n",
       "    </tr>\n",
       "    <tr>\n",
       "      <th>1</th>\n",
       "      <td>John</td>\n",
       "      <td>29</td>\n",
       "      <td>Hyderabad</td>\n",
       "    </tr>\n",
       "    <tr>\n",
       "      <th>2</th>\n",
       "      <td>Elle</td>\n",
       "      <td>27</td>\n",
       "      <td>Mumbai</td>\n",
       "    </tr>\n",
       "  </tbody>\n",
       "</table>\n",
       "</div>"
      ],
      "text/plain": [
       "   Name  Age       City\n",
       "0  Jack   30  Bangalore\n",
       "1  John   29  Hyderabad\n",
       "2  Elle   27     Mumbai"
      ]
     },
     "execution_count": 37,
     "metadata": {},
     "output_type": "execute_result"
    }
   ],
   "source": [
    "df"
   ]
  },
  {
   "cell_type": "code",
   "execution_count": 38,
   "id": "a2967306",
   "metadata": {},
   "outputs": [
    {
     "data": {
      "text/html": [
       "<div>\n",
       "<style scoped>\n",
       "    .dataframe tbody tr th:only-of-type {\n",
       "        vertical-align: middle;\n",
       "    }\n",
       "\n",
       "    .dataframe tbody tr th {\n",
       "        vertical-align: top;\n",
       "    }\n",
       "\n",
       "    .dataframe thead th {\n",
       "        text-align: right;\n",
       "    }\n",
       "</style>\n",
       "<table border=\"1\" class=\"dataframe\">\n",
       "  <thead>\n",
       "    <tr style=\"text-align: right;\">\n",
       "      <th></th>\n",
       "      <th>Name</th>\n",
       "      <th>Age</th>\n",
       "      <th>City</th>\n",
       "    </tr>\n",
       "  </thead>\n",
       "  <tbody>\n",
       "    <tr>\n",
       "      <th>0</th>\n",
       "      <td>Jack</td>\n",
       "      <td>31</td>\n",
       "      <td>Bangalore</td>\n",
       "    </tr>\n",
       "    <tr>\n",
       "      <th>1</th>\n",
       "      <td>John</td>\n",
       "      <td>30</td>\n",
       "      <td>Hyderabad</td>\n",
       "    </tr>\n",
       "    <tr>\n",
       "      <th>2</th>\n",
       "      <td>Elle</td>\n",
       "      <td>28</td>\n",
       "      <td>Mumbai</td>\n",
       "    </tr>\n",
       "  </tbody>\n",
       "</table>\n",
       "</div>"
      ],
      "text/plain": [
       "   Name  Age       City\n",
       "0  Jack   31  Bangalore\n",
       "1  John   30  Hyderabad\n",
       "2  Elle   28     Mumbai"
      ]
     },
     "execution_count": 38,
     "metadata": {},
     "output_type": "execute_result"
    }
   ],
   "source": [
    "df['Age']=df['Age']+1\n",
    "df"
   ]
  },
  {
   "cell_type": "code",
   "execution_count": 39,
   "id": "a44e87cc",
   "metadata": {},
   "outputs": [
    {
     "name": "stdout",
     "output_type": "stream",
     "text": [
      "   Name  Age       City\n",
      "0  Jack   31  Bangalore\n",
      "1  John   30  Hyderabad\n",
      "2  Elle   28     Mumbai\n",
      "Shape: (3, 3)\n",
      "Columns: Index(['Name', 'Age', 'City'], dtype='object')\n"
     ]
    }
   ],
   "source": [
    "print(df)\n",
    "print(\"Shape:\", df.shape)\n",
    "print(\"Columns:\", df.columns)\n"
   ]
  },
  {
   "cell_type": "code",
   "execution_count": 40,
   "id": "9b8de5ef",
   "metadata": {},
   "outputs": [
    {
     "name": "stdout",
     "output_type": "stream",
     "text": [
      "Requirement already satisfied: pandas in c:\\users\\amitj\\anaconda3\\lib\\site-packages (2.2.3)\n",
      "Requirement already satisfied: numpy>=1.26.0 in c:\\users\\amitj\\anaconda3\\lib\\site-packages (from pandas) (2.1.3)\n",
      "Requirement already satisfied: python-dateutil>=2.8.2 in c:\\users\\amitj\\anaconda3\\lib\\site-packages (from pandas) (2.9.0.post0)\n",
      "Requirement already satisfied: pytz>=2020.1 in c:\\users\\amitj\\anaconda3\\lib\\site-packages (from pandas) (2024.1)\n",
      "Requirement already satisfied: tzdata>=2022.7 in c:\\users\\amitj\\anaconda3\\lib\\site-packages (from pandas) (2025.2)\n",
      "Requirement already satisfied: six>=1.5 in c:\\users\\amitj\\anaconda3\\lib\\site-packages (from python-dateutil>=2.8.2->pandas) (1.17.0)\n",
      "Note: you may need to restart the kernel to use updated packages.\n"
     ]
    }
   ],
   "source": [
    "%pip install pandas\n",
    "import pandas as pd"
   ]
  },
  {
   "cell_type": "code",
   "execution_count": 41,
   "id": "fb92ade8",
   "metadata": {},
   "outputs": [
    {
     "data": {
      "text/html": [
       "<div>\n",
       "<style scoped>\n",
       "    .dataframe tbody tr th:only-of-type {\n",
       "        vertical-align: middle;\n",
       "    }\n",
       "\n",
       "    .dataframe tbody tr th {\n",
       "        vertical-align: top;\n",
       "    }\n",
       "\n",
       "    .dataframe thead th {\n",
       "        text-align: right;\n",
       "    }\n",
       "</style>\n",
       "<table border=\"1\" class=\"dataframe\">\n",
       "  <thead>\n",
       "    <tr style=\"text-align: right;\">\n",
       "      <th></th>\n",
       "      <th>Date</th>\n",
       "      <th>Product</th>\n",
       "      <th>Region</th>\n",
       "      <th>Salesperson</th>\n",
       "      <th>Units Sold</th>\n",
       "      <th>Unit Price</th>\n",
       "      <th>Total Sales</th>\n",
       "    </tr>\n",
       "  </thead>\n",
       "  <tbody>\n",
       "    <tr>\n",
       "      <th>0</th>\n",
       "      <td>2025-01-05</td>\n",
       "      <td>Laptop</td>\n",
       "      <td>North</td>\n",
       "      <td>Alice</td>\n",
       "      <td>3</td>\n",
       "      <td>750.0</td>\n",
       "      <td>2250.0</td>\n",
       "    </tr>\n",
       "    <tr>\n",
       "      <th>1</th>\n",
       "      <td>2025-01-10</td>\n",
       "      <td>Smartphone</td>\n",
       "      <td>South</td>\n",
       "      <td>Bob</td>\n",
       "      <td>5</td>\n",
       "      <td>500.0</td>\n",
       "      <td>2500.0</td>\n",
       "    </tr>\n",
       "    <tr>\n",
       "      <th>2</th>\n",
       "      <td>2025-02-02</td>\n",
       "      <td>Tablet</td>\n",
       "      <td>East</td>\n",
       "      <td>Charlie</td>\n",
       "      <td>2</td>\n",
       "      <td>300.0</td>\n",
       "      <td>600.0</td>\n",
       "    </tr>\n",
       "    <tr>\n",
       "      <th>3</th>\n",
       "      <td>2025-02-14</td>\n",
       "      <td>Monitor</td>\n",
       "      <td>West</td>\n",
       "      <td>Diana</td>\n",
       "      <td>4</td>\n",
       "      <td>200.0</td>\n",
       "      <td>800.0</td>\n",
       "    </tr>\n",
       "    <tr>\n",
       "      <th>4</th>\n",
       "      <td>2025-03-01</td>\n",
       "      <td>Headphones</td>\n",
       "      <td>North</td>\n",
       "      <td>Ethan</td>\n",
       "      <td>10</td>\n",
       "      <td>100.0</td>\n",
       "      <td>1000.0</td>\n",
       "    </tr>\n",
       "  </tbody>\n",
       "</table>\n",
       "</div>"
      ],
      "text/plain": [
       "         Date     Product Region Salesperson  Units Sold  Unit Price  \\\n",
       "0  2025-01-05      Laptop  North       Alice           3       750.0   \n",
       "1  2025-01-10  Smartphone  South         Bob           5       500.0   \n",
       "2  2025-02-02      Tablet   East     Charlie           2       300.0   \n",
       "3  2025-02-14     Monitor   West       Diana           4       200.0   \n",
       "4  2025-03-01  Headphones  North       Ethan          10       100.0   \n",
       "\n",
       "   Total Sales  \n",
       "0       2250.0  \n",
       "1       2500.0  \n",
       "2        600.0  \n",
       "3        800.0  \n",
       "4       1000.0  "
      ]
     },
     "execution_count": 41,
     "metadata": {},
     "output_type": "execute_result"
    }
   ],
   "source": [
    "df =pd.read_csv('sales_data.csv')\n",
    "df.head(5)"
   ]
  },
  {
   "cell_type": "code",
   "execution_count": 42,
   "id": "98fe0012",
   "metadata": {},
   "outputs": [
    {
     "data": {
      "text/html": [
       "<div>\n",
       "<style scoped>\n",
       "    .dataframe tbody tr th:only-of-type {\n",
       "        vertical-align: middle;\n",
       "    }\n",
       "\n",
       "    .dataframe tbody tr th {\n",
       "        vertical-align: top;\n",
       "    }\n",
       "\n",
       "    .dataframe thead th {\n",
       "        text-align: right;\n",
       "    }\n",
       "</style>\n",
       "<table border=\"1\" class=\"dataframe\">\n",
       "  <thead>\n",
       "    <tr style=\"text-align: right;\">\n",
       "      <th></th>\n",
       "      <th>Date</th>\n",
       "      <th>Product</th>\n",
       "      <th>Region</th>\n",
       "      <th>Salesperson</th>\n",
       "      <th>Units Sold</th>\n",
       "      <th>Unit Price</th>\n",
       "      <th>Total Sales</th>\n",
       "    </tr>\n",
       "  </thead>\n",
       "  <tbody>\n",
       "    <tr>\n",
       "      <th>5</th>\n",
       "      <td>2025-03-18</td>\n",
       "      <td>Laptop</td>\n",
       "      <td>East</td>\n",
       "      <td>Alice</td>\n",
       "      <td>1</td>\n",
       "      <td>800.0</td>\n",
       "      <td>800.0</td>\n",
       "    </tr>\n",
       "    <tr>\n",
       "      <th>6</th>\n",
       "      <td>2025-04-04</td>\n",
       "      <td>Smartphone</td>\n",
       "      <td>West</td>\n",
       "      <td>Bob</td>\n",
       "      <td>6</td>\n",
       "      <td>550.0</td>\n",
       "      <td>3300.0</td>\n",
       "    </tr>\n",
       "    <tr>\n",
       "      <th>7</th>\n",
       "      <td>2025-04-20</td>\n",
       "      <td>Tablet</td>\n",
       "      <td>South</td>\n",
       "      <td>Charlie</td>\n",
       "      <td>3</td>\n",
       "      <td>280.0</td>\n",
       "      <td>840.0</td>\n",
       "    </tr>\n",
       "    <tr>\n",
       "      <th>8</th>\n",
       "      <td>2025-05-09</td>\n",
       "      <td>Monitor</td>\n",
       "      <td>North</td>\n",
       "      <td>Diana</td>\n",
       "      <td>2</td>\n",
       "      <td>220.0</td>\n",
       "      <td>440.0</td>\n",
       "    </tr>\n",
       "    <tr>\n",
       "      <th>9</th>\n",
       "      <td>2025-06-15</td>\n",
       "      <td>Headphones</td>\n",
       "      <td>East</td>\n",
       "      <td>Ethan</td>\n",
       "      <td>7</td>\n",
       "      <td>90.0</td>\n",
       "      <td>630.0</td>\n",
       "    </tr>\n",
       "  </tbody>\n",
       "</table>\n",
       "</div>"
      ],
      "text/plain": [
       "         Date     Product Region Salesperson  Units Sold  Unit Price  \\\n",
       "5  2025-03-18      Laptop   East       Alice           1       800.0   \n",
       "6  2025-04-04  Smartphone   West         Bob           6       550.0   \n",
       "7  2025-04-20      Tablet  South     Charlie           3       280.0   \n",
       "8  2025-05-09     Monitor  North       Diana           2       220.0   \n",
       "9  2025-06-15  Headphones   East       Ethan           7        90.0   \n",
       "\n",
       "   Total Sales  \n",
       "5        800.0  \n",
       "6       3300.0  \n",
       "7        840.0  \n",
       "8        440.0  \n",
       "9        630.0  "
      ]
     },
     "execution_count": 42,
     "metadata": {},
     "output_type": "execute_result"
    }
   ],
   "source": [
    "df.tail(5)"
   ]
  },
  {
   "cell_type": "code",
   "execution_count": 43,
   "id": "426638e2",
   "metadata": {},
   "outputs": [
    {
     "data": {
      "text/plain": [
       "{'Name': ['Jack', 'John', 'Elle'],\n",
       " 'Age': [30, 29, 27],\n",
       " 'City': ['Bangalore', 'Hyderabad', 'Mumbai']}"
      ]
     },
     "execution_count": 43,
     "metadata": {},
     "output_type": "execute_result"
    }
   ],
   "source": [
    "data"
   ]
  },
  {
   "cell_type": "code",
   "execution_count": 44,
   "id": "8b319d06",
   "metadata": {},
   "outputs": [
    {
     "data": {
      "text/html": [
       "<div>\n",
       "<style scoped>\n",
       "    .dataframe tbody tr th:only-of-type {\n",
       "        vertical-align: middle;\n",
       "    }\n",
       "\n",
       "    .dataframe tbody tr th {\n",
       "        vertical-align: top;\n",
       "    }\n",
       "\n",
       "    .dataframe thead th {\n",
       "        text-align: right;\n",
       "    }\n",
       "</style>\n",
       "<table border=\"1\" class=\"dataframe\">\n",
       "  <thead>\n",
       "    <tr style=\"text-align: right;\">\n",
       "      <th></th>\n",
       "      <th>Date</th>\n",
       "      <th>Product</th>\n",
       "      <th>Region</th>\n",
       "      <th>Salesperson</th>\n",
       "      <th>Units Sold</th>\n",
       "      <th>Unit Price</th>\n",
       "      <th>Total Sales</th>\n",
       "    </tr>\n",
       "  </thead>\n",
       "  <tbody>\n",
       "    <tr>\n",
       "      <th>0</th>\n",
       "      <td>2025-01-05</td>\n",
       "      <td>Laptop</td>\n",
       "      <td>North</td>\n",
       "      <td>Alice</td>\n",
       "      <td>3</td>\n",
       "      <td>750.0</td>\n",
       "      <td>2250.0</td>\n",
       "    </tr>\n",
       "    <tr>\n",
       "      <th>1</th>\n",
       "      <td>2025-01-10</td>\n",
       "      <td>Smartphone</td>\n",
       "      <td>South</td>\n",
       "      <td>Bob</td>\n",
       "      <td>5</td>\n",
       "      <td>500.0</td>\n",
       "      <td>2500.0</td>\n",
       "    </tr>\n",
       "    <tr>\n",
       "      <th>2</th>\n",
       "      <td>2025-02-02</td>\n",
       "      <td>Tablet</td>\n",
       "      <td>East</td>\n",
       "      <td>Charlie</td>\n",
       "      <td>2</td>\n",
       "      <td>300.0</td>\n",
       "      <td>600.0</td>\n",
       "    </tr>\n",
       "    <tr>\n",
       "      <th>3</th>\n",
       "      <td>2025-02-14</td>\n",
       "      <td>Monitor</td>\n",
       "      <td>West</td>\n",
       "      <td>Diana</td>\n",
       "      <td>4</td>\n",
       "      <td>200.0</td>\n",
       "      <td>800.0</td>\n",
       "    </tr>\n",
       "    <tr>\n",
       "      <th>4</th>\n",
       "      <td>2025-03-01</td>\n",
       "      <td>Headphones</td>\n",
       "      <td>North</td>\n",
       "      <td>Ethan</td>\n",
       "      <td>10</td>\n",
       "      <td>100.0</td>\n",
       "      <td>1000.0</td>\n",
       "    </tr>\n",
       "    <tr>\n",
       "      <th>5</th>\n",
       "      <td>2025-03-18</td>\n",
       "      <td>Laptop</td>\n",
       "      <td>East</td>\n",
       "      <td>Alice</td>\n",
       "      <td>1</td>\n",
       "      <td>800.0</td>\n",
       "      <td>800.0</td>\n",
       "    </tr>\n",
       "    <tr>\n",
       "      <th>6</th>\n",
       "      <td>2025-04-04</td>\n",
       "      <td>Smartphone</td>\n",
       "      <td>West</td>\n",
       "      <td>Bob</td>\n",
       "      <td>6</td>\n",
       "      <td>550.0</td>\n",
       "      <td>3300.0</td>\n",
       "    </tr>\n",
       "    <tr>\n",
       "      <th>7</th>\n",
       "      <td>2025-04-20</td>\n",
       "      <td>Tablet</td>\n",
       "      <td>South</td>\n",
       "      <td>Charlie</td>\n",
       "      <td>3</td>\n",
       "      <td>280.0</td>\n",
       "      <td>840.0</td>\n",
       "    </tr>\n",
       "    <tr>\n",
       "      <th>8</th>\n",
       "      <td>2025-05-09</td>\n",
       "      <td>Monitor</td>\n",
       "      <td>North</td>\n",
       "      <td>Diana</td>\n",
       "      <td>2</td>\n",
       "      <td>220.0</td>\n",
       "      <td>440.0</td>\n",
       "    </tr>\n",
       "    <tr>\n",
       "      <th>9</th>\n",
       "      <td>2025-06-15</td>\n",
       "      <td>Headphones</td>\n",
       "      <td>East</td>\n",
       "      <td>Ethan</td>\n",
       "      <td>7</td>\n",
       "      <td>90.0</td>\n",
       "      <td>630.0</td>\n",
       "    </tr>\n",
       "  </tbody>\n",
       "</table>\n",
       "</div>"
      ],
      "text/plain": [
       "         Date     Product Region Salesperson  Units Sold  Unit Price  \\\n",
       "0  2025-01-05      Laptop  North       Alice           3       750.0   \n",
       "1  2025-01-10  Smartphone  South         Bob           5       500.0   \n",
       "2  2025-02-02      Tablet   East     Charlie           2       300.0   \n",
       "3  2025-02-14     Monitor   West       Diana           4       200.0   \n",
       "4  2025-03-01  Headphones  North       Ethan          10       100.0   \n",
       "5  2025-03-18      Laptop   East       Alice           1       800.0   \n",
       "6  2025-04-04  Smartphone   West         Bob           6       550.0   \n",
       "7  2025-04-20      Tablet  South     Charlie           3       280.0   \n",
       "8  2025-05-09     Monitor  North       Diana           2       220.0   \n",
       "9  2025-06-15  Headphones   East       Ethan           7        90.0   \n",
       "\n",
       "   Total Sales  \n",
       "0       2250.0  \n",
       "1       2500.0  \n",
       "2        600.0  \n",
       "3        800.0  \n",
       "4       1000.0  \n",
       "5        800.0  \n",
       "6       3300.0  \n",
       "7        840.0  \n",
       "8        440.0  \n",
       "9        630.0  "
      ]
     },
     "execution_count": 44,
     "metadata": {},
     "output_type": "execute_result"
    }
   ],
   "source": [
    "df"
   ]
  },
  {
   "cell_type": "code",
   "execution_count": 45,
   "id": "9a0d4033",
   "metadata": {},
   "outputs": [
    {
     "name": "stdout",
     "output_type": "stream",
     "text": [
      "data types:\n",
      " Date            object\n",
      "Product         object\n",
      "Region          object\n",
      "Salesperson     object\n",
      "Units Sold       int64\n",
      "Unit Price     float64\n",
      "Total Sales    float64\n",
      "dtype: object\n"
     ]
    }
   ],
   "source": [
    "#display the data types of each column\n",
    "print(\"data types:\\n\",df.dtypes)"
   ]
  },
  {
   "cell_type": "code",
   "execution_count": 46,
   "id": "ff79975d",
   "metadata": {},
   "outputs": [
    {
     "name": "stdout",
     "output_type": "stream",
     "text": [
      "Statistical Summary:\n",
      "        Units Sold  Unit Price  Total Sales\n",
      "count   10.000000   10.000000    10.000000\n",
      "mean     4.300000  379.000000  1316.000000\n",
      "std      2.750757  256.794341   989.951738\n",
      "min      1.000000   90.000000   440.000000\n",
      "25%      2.250000  205.000000   672.500000\n",
      "50%      3.500000  290.000000   820.000000\n",
      "75%      5.750000  537.500000  1937.500000\n",
      "max     10.000000  800.000000  3300.000000\n"
     ]
    }
   ],
   "source": [
    "#describe the dataframe\n",
    "print(\"Statistical Summary:\\n\",df.describe())"
   ]
  },
  {
   "cell_type": "code",
   "execution_count": 50,
   "id": "a6b1382e",
   "metadata": {},
   "outputs": [],
   "source": [
    "#handling missing values\n",
    "df1 = pd.read_csv('data.csv')"
   ]
  },
  {
   "cell_type": "code",
   "execution_count": 51,
   "id": "944503fa",
   "metadata": {},
   "outputs": [
    {
     "name": "stdout",
     "output_type": "stream",
     "text": [
      "         Date     Product Region Salesperson  Units Sold  Unit Price  \\\n",
      "0  2025-01-05      Laptop  North       Alice         3.0       750.0   \n",
      "1  2025-01-10  Smartphone  South         Bob         5.0       500.0   \n",
      "2  2025-02-02      Tablet    NaN     Charlie         2.0       300.0   \n",
      "3  2025-02-14     Monitor   West         NaN         4.0       200.0   \n",
      "4  2025-03-01  Headphones  North       Ethan         NaN       100.0   \n",
      "\n",
      "   Total Sales  \n",
      "0       2250.0  \n",
      "1       2500.0  \n",
      "2        600.0  \n",
      "3        800.0  \n",
      "4          NaN  \n"
     ]
    }
   ],
   "source": [
    "print(df1.head(5))"
   ]
  },
  {
   "cell_type": "code",
   "execution_count": 52,
   "id": "f7e2dfd2",
   "metadata": {},
   "outputs": [
    {
     "name": "stdout",
     "output_type": "stream",
     "text": [
      "          Date     Product Region Salesperson  Units Sold  Unit Price  \\\n",
      "15  2025-08-20      Laptop  South         Bob         NaN       900.0   \n",
      "16  2025-08-25  Smartphone   West     Charlie         7.0         NaN   \n",
      "17  2025-09-01      Tablet   East       Diana         1.0       310.0   \n",
      "18  2025-09-10     Monitor  North       Ethan         2.0       215.0   \n",
      "19  2025-09-15  Headphones  South       Alice         5.0       100.0   \n",
      "\n",
      "    Total Sales  \n",
      "15          NaN  \n",
      "16       3850.0  \n",
      "17        310.0  \n",
      "18        430.0  \n",
      "19        500.0  \n"
     ]
    }
   ],
   "source": [
    "print(df.tail(5))"
   ]
  },
  {
   "cell_type": "code",
   "execution_count": 54,
   "id": "79b06e9d",
   "metadata": {},
   "outputs": [
    {
     "name": "stdout",
     "output_type": "stream",
     "text": [
      "     Date  Product  Region  Salesperson  Units Sold  Unit Price  Total Sales\n",
      "0   False    False   False        False       False       False        False\n",
      "1   False    False   False        False       False       False        False\n",
      "2   False    False    True        False       False       False        False\n",
      "3   False    False   False         True       False       False        False\n",
      "4   False    False   False        False        True       False         True\n",
      "5   False    False   False        False       False       False        False\n",
      "6   False    False   False        False       False        True        False\n",
      "7   False    False   False        False       False       False        False\n",
      "8   False     True   False        False       False       False        False\n",
      "9   False    False   False        False       False       False        False\n",
      "10  False    False    True        False       False       False        False\n",
      "11  False    False   False        False       False       False         True\n",
      "12  False    False   False         True       False       False        False\n",
      "13  False    False   False        False       False       False        False\n",
      "14  False    False   False        False       False       False        False\n",
      "15  False    False   False        False        True       False         True\n",
      "16  False    False   False        False       False        True        False\n",
      "17  False    False   False        False       False       False        False\n",
      "18  False    False   False        False       False       False        False\n",
      "19  False    False   False        False       False       False        False\n"
     ]
    }
   ],
   "source": [
    "print(df1.isnull())"
   ]
  },
  {
   "cell_type": "code",
   "execution_count": 56,
   "id": "21338a7a",
   "metadata": {},
   "outputs": [
    {
     "data": {
      "text/plain": [
       "Date           False\n",
       "Product         True\n",
       "Region          True\n",
       "Salesperson     True\n",
       "Units Sold      True\n",
       "Unit Price      True\n",
       "Total Sales     True\n",
       "dtype: bool"
      ]
     },
     "execution_count": 56,
     "metadata": {},
     "output_type": "execute_result"
    }
   ],
   "source": [
    "df1.isnull().any()"
   ]
  },
  {
   "cell_type": "code",
   "execution_count": 58,
   "id": "eca26aa5",
   "metadata": {},
   "outputs": [
    {
     "data": {
      "text/plain": [
       "0     False\n",
       "1     False\n",
       "2      True\n",
       "3      True\n",
       "4      True\n",
       "5     False\n",
       "6      True\n",
       "7     False\n",
       "8      True\n",
       "9     False\n",
       "10     True\n",
       "11     True\n",
       "12     True\n",
       "13    False\n",
       "14    False\n",
       "15     True\n",
       "16     True\n",
       "17    False\n",
       "18    False\n",
       "19    False\n",
       "dtype: bool"
      ]
     },
     "execution_count": 58,
     "metadata": {},
     "output_type": "execute_result"
    }
   ],
   "source": [
    "df1.isnull().any(axis=1)"
   ]
  },
  {
   "cell_type": "code",
   "execution_count": 57,
   "id": "3e6fa9d9",
   "metadata": {},
   "outputs": [
    {
     "data": {
      "text/plain": [
       "Date           0\n",
       "Product        1\n",
       "Region         2\n",
       "Salesperson    2\n",
       "Units Sold     2\n",
       "Unit Price     2\n",
       "Total Sales    3\n",
       "dtype: int64"
      ]
     },
     "execution_count": 57,
     "metadata": {},
     "output_type": "execute_result"
    }
   ],
   "source": [
    "df1.isnull().sum()"
   ]
  },
  {
   "cell_type": "code",
   "execution_count": 61,
   "id": "942714ad",
   "metadata": {},
   "outputs": [],
   "source": [
    "df1_filled = df1.fillna(0)"
   ]
  },
  {
   "cell_type": "code",
   "execution_count": 62,
   "id": "fb4fbd00",
   "metadata": {},
   "outputs": [
    {
     "data": {
      "text/html": [
       "<div>\n",
       "<style scoped>\n",
       "    .dataframe tbody tr th:only-of-type {\n",
       "        vertical-align: middle;\n",
       "    }\n",
       "\n",
       "    .dataframe tbody tr th {\n",
       "        vertical-align: top;\n",
       "    }\n",
       "\n",
       "    .dataframe thead th {\n",
       "        text-align: right;\n",
       "    }\n",
       "</style>\n",
       "<table border=\"1\" class=\"dataframe\">\n",
       "  <thead>\n",
       "    <tr style=\"text-align: right;\">\n",
       "      <th></th>\n",
       "      <th>Date</th>\n",
       "      <th>Product</th>\n",
       "      <th>Region</th>\n",
       "      <th>Salesperson</th>\n",
       "      <th>Units Sold</th>\n",
       "      <th>Unit Price</th>\n",
       "      <th>Total Sales</th>\n",
       "    </tr>\n",
       "  </thead>\n",
       "  <tbody>\n",
       "    <tr>\n",
       "      <th>0</th>\n",
       "      <td>2025-01-05</td>\n",
       "      <td>Laptop</td>\n",
       "      <td>North</td>\n",
       "      <td>Alice</td>\n",
       "      <td>3.0</td>\n",
       "      <td>750.0</td>\n",
       "      <td>2250.0</td>\n",
       "    </tr>\n",
       "    <tr>\n",
       "      <th>1</th>\n",
       "      <td>2025-01-10</td>\n",
       "      <td>Smartphone</td>\n",
       "      <td>South</td>\n",
       "      <td>Bob</td>\n",
       "      <td>5.0</td>\n",
       "      <td>500.0</td>\n",
       "      <td>2500.0</td>\n",
       "    </tr>\n",
       "    <tr>\n",
       "      <th>2</th>\n",
       "      <td>2025-02-02</td>\n",
       "      <td>Tablet</td>\n",
       "      <td>0</td>\n",
       "      <td>Charlie</td>\n",
       "      <td>2.0</td>\n",
       "      <td>300.0</td>\n",
       "      <td>600.0</td>\n",
       "    </tr>\n",
       "    <tr>\n",
       "      <th>3</th>\n",
       "      <td>2025-02-14</td>\n",
       "      <td>Monitor</td>\n",
       "      <td>West</td>\n",
       "      <td>0</td>\n",
       "      <td>4.0</td>\n",
       "      <td>200.0</td>\n",
       "      <td>800.0</td>\n",
       "    </tr>\n",
       "    <tr>\n",
       "      <th>4</th>\n",
       "      <td>2025-03-01</td>\n",
       "      <td>Headphones</td>\n",
       "      <td>North</td>\n",
       "      <td>Ethan</td>\n",
       "      <td>0.0</td>\n",
       "      <td>100.0</td>\n",
       "      <td>0.0</td>\n",
       "    </tr>\n",
       "    <tr>\n",
       "      <th>5</th>\n",
       "      <td>2025-03-18</td>\n",
       "      <td>Laptop</td>\n",
       "      <td>East</td>\n",
       "      <td>Alice</td>\n",
       "      <td>1.0</td>\n",
       "      <td>800.0</td>\n",
       "      <td>800.0</td>\n",
       "    </tr>\n",
       "    <tr>\n",
       "      <th>6</th>\n",
       "      <td>2025-04-04</td>\n",
       "      <td>Smartphone</td>\n",
       "      <td>West</td>\n",
       "      <td>Bob</td>\n",
       "      <td>6.0</td>\n",
       "      <td>0.0</td>\n",
       "      <td>3300.0</td>\n",
       "    </tr>\n",
       "    <tr>\n",
       "      <th>7</th>\n",
       "      <td>2025-04-20</td>\n",
       "      <td>Tablet</td>\n",
       "      <td>South</td>\n",
       "      <td>Charlie</td>\n",
       "      <td>3.0</td>\n",
       "      <td>280.0</td>\n",
       "      <td>840.0</td>\n",
       "    </tr>\n",
       "    <tr>\n",
       "      <th>8</th>\n",
       "      <td>2025-05-09</td>\n",
       "      <td>0</td>\n",
       "      <td>North</td>\n",
       "      <td>Diana</td>\n",
       "      <td>2.0</td>\n",
       "      <td>220.0</td>\n",
       "      <td>440.0</td>\n",
       "    </tr>\n",
       "    <tr>\n",
       "      <th>9</th>\n",
       "      <td>2025-06-15</td>\n",
       "      <td>Headphones</td>\n",
       "      <td>East</td>\n",
       "      <td>Ethan</td>\n",
       "      <td>7.0</td>\n",
       "      <td>90.0</td>\n",
       "      <td>630.0</td>\n",
       "    </tr>\n",
       "    <tr>\n",
       "      <th>10</th>\n",
       "      <td>2025-07-01</td>\n",
       "      <td>Laptop</td>\n",
       "      <td>0</td>\n",
       "      <td>Alice</td>\n",
       "      <td>2.0</td>\n",
       "      <td>850.0</td>\n",
       "      <td>1700.0</td>\n",
       "    </tr>\n",
       "    <tr>\n",
       "      <th>11</th>\n",
       "      <td>2025-07-10</td>\n",
       "      <td>Smartphone</td>\n",
       "      <td>West</td>\n",
       "      <td>Bob</td>\n",
       "      <td>5.0</td>\n",
       "      <td>510.0</td>\n",
       "      <td>0.0</td>\n",
       "    </tr>\n",
       "    <tr>\n",
       "      <th>12</th>\n",
       "      <td>2025-07-25</td>\n",
       "      <td>Tablet</td>\n",
       "      <td>South</td>\n",
       "      <td>0</td>\n",
       "      <td>4.0</td>\n",
       "      <td>295.0</td>\n",
       "      <td>1180.0</td>\n",
       "    </tr>\n",
       "    <tr>\n",
       "      <th>13</th>\n",
       "      <td>2025-08-02</td>\n",
       "      <td>Monitor</td>\n",
       "      <td>North</td>\n",
       "      <td>Ethan</td>\n",
       "      <td>3.0</td>\n",
       "      <td>210.0</td>\n",
       "      <td>630.0</td>\n",
       "    </tr>\n",
       "    <tr>\n",
       "      <th>14</th>\n",
       "      <td>2025-08-12</td>\n",
       "      <td>Headphones</td>\n",
       "      <td>East</td>\n",
       "      <td>Alice</td>\n",
       "      <td>6.0</td>\n",
       "      <td>95.0</td>\n",
       "      <td>570.0</td>\n",
       "    </tr>\n",
       "    <tr>\n",
       "      <th>15</th>\n",
       "      <td>2025-08-20</td>\n",
       "      <td>Laptop</td>\n",
       "      <td>South</td>\n",
       "      <td>Bob</td>\n",
       "      <td>0.0</td>\n",
       "      <td>900.0</td>\n",
       "      <td>0.0</td>\n",
       "    </tr>\n",
       "    <tr>\n",
       "      <th>16</th>\n",
       "      <td>2025-08-25</td>\n",
       "      <td>Smartphone</td>\n",
       "      <td>West</td>\n",
       "      <td>Charlie</td>\n",
       "      <td>7.0</td>\n",
       "      <td>0.0</td>\n",
       "      <td>3850.0</td>\n",
       "    </tr>\n",
       "    <tr>\n",
       "      <th>17</th>\n",
       "      <td>2025-09-01</td>\n",
       "      <td>Tablet</td>\n",
       "      <td>East</td>\n",
       "      <td>Diana</td>\n",
       "      <td>1.0</td>\n",
       "      <td>310.0</td>\n",
       "      <td>310.0</td>\n",
       "    </tr>\n",
       "    <tr>\n",
       "      <th>18</th>\n",
       "      <td>2025-09-10</td>\n",
       "      <td>Monitor</td>\n",
       "      <td>North</td>\n",
       "      <td>Ethan</td>\n",
       "      <td>2.0</td>\n",
       "      <td>215.0</td>\n",
       "      <td>430.0</td>\n",
       "    </tr>\n",
       "    <tr>\n",
       "      <th>19</th>\n",
       "      <td>2025-09-15</td>\n",
       "      <td>Headphones</td>\n",
       "      <td>South</td>\n",
       "      <td>Alice</td>\n",
       "      <td>5.0</td>\n",
       "      <td>100.0</td>\n",
       "      <td>500.0</td>\n",
       "    </tr>\n",
       "  </tbody>\n",
       "</table>\n",
       "</div>"
      ],
      "text/plain": [
       "          Date     Product Region Salesperson  Units Sold  Unit Price  \\\n",
       "0   2025-01-05      Laptop  North       Alice         3.0       750.0   \n",
       "1   2025-01-10  Smartphone  South         Bob         5.0       500.0   \n",
       "2   2025-02-02      Tablet      0     Charlie         2.0       300.0   \n",
       "3   2025-02-14     Monitor   West           0         4.0       200.0   \n",
       "4   2025-03-01  Headphones  North       Ethan         0.0       100.0   \n",
       "5   2025-03-18      Laptop   East       Alice         1.0       800.0   \n",
       "6   2025-04-04  Smartphone   West         Bob         6.0         0.0   \n",
       "7   2025-04-20      Tablet  South     Charlie         3.0       280.0   \n",
       "8   2025-05-09           0  North       Diana         2.0       220.0   \n",
       "9   2025-06-15  Headphones   East       Ethan         7.0        90.0   \n",
       "10  2025-07-01      Laptop      0       Alice         2.0       850.0   \n",
       "11  2025-07-10  Smartphone   West         Bob         5.0       510.0   \n",
       "12  2025-07-25      Tablet  South           0         4.0       295.0   \n",
       "13  2025-08-02     Monitor  North       Ethan         3.0       210.0   \n",
       "14  2025-08-12  Headphones   East       Alice         6.0        95.0   \n",
       "15  2025-08-20      Laptop  South         Bob         0.0       900.0   \n",
       "16  2025-08-25  Smartphone   West     Charlie         7.0         0.0   \n",
       "17  2025-09-01      Tablet   East       Diana         1.0       310.0   \n",
       "18  2025-09-10     Monitor  North       Ethan         2.0       215.0   \n",
       "19  2025-09-15  Headphones  South       Alice         5.0       100.0   \n",
       "\n",
       "    Total Sales  \n",
       "0        2250.0  \n",
       "1        2500.0  \n",
       "2         600.0  \n",
       "3         800.0  \n",
       "4           0.0  \n",
       "5         800.0  \n",
       "6        3300.0  \n",
       "7         840.0  \n",
       "8         440.0  \n",
       "9         630.0  \n",
       "10       1700.0  \n",
       "11          0.0  \n",
       "12       1180.0  \n",
       "13        630.0  \n",
       "14        570.0  \n",
       "15          0.0  \n",
       "16       3850.0  \n",
       "17        310.0  \n",
       "18        430.0  \n",
       "19        500.0  "
      ]
     },
     "execution_count": 62,
     "metadata": {},
     "output_type": "execute_result"
    }
   ],
   "source": [
    "df1_filled"
   ]
  },
  {
   "cell_type": "code",
   "execution_count": 64,
   "id": "c923233e",
   "metadata": {},
   "outputs": [],
   "source": [
    "df1['units sold filled'] = df1['Units Sold'].fillna(df1['Units Sold'].mean())"
   ]
  },
  {
   "cell_type": "code",
   "execution_count": 65,
   "id": "7a7c7aba",
   "metadata": {},
   "outputs": [
    {
     "data": {
      "text/html": [
       "<div>\n",
       "<style scoped>\n",
       "    .dataframe tbody tr th:only-of-type {\n",
       "        vertical-align: middle;\n",
       "    }\n",
       "\n",
       "    .dataframe tbody tr th {\n",
       "        vertical-align: top;\n",
       "    }\n",
       "\n",
       "    .dataframe thead th {\n",
       "        text-align: right;\n",
       "    }\n",
       "</style>\n",
       "<table border=\"1\" class=\"dataframe\">\n",
       "  <thead>\n",
       "    <tr style=\"text-align: right;\">\n",
       "      <th></th>\n",
       "      <th>Date</th>\n",
       "      <th>Product</th>\n",
       "      <th>Region</th>\n",
       "      <th>Salesperson</th>\n",
       "      <th>Units Sold</th>\n",
       "      <th>Unit Price</th>\n",
       "      <th>Total Sales</th>\n",
       "      <th>units sold filled</th>\n",
       "    </tr>\n",
       "  </thead>\n",
       "  <tbody>\n",
       "    <tr>\n",
       "      <th>0</th>\n",
       "      <td>2025-01-05</td>\n",
       "      <td>Laptop</td>\n",
       "      <td>North</td>\n",
       "      <td>Alice</td>\n",
       "      <td>3.0</td>\n",
       "      <td>750.0</td>\n",
       "      <td>2250.0</td>\n",
       "      <td>3.000000</td>\n",
       "    </tr>\n",
       "    <tr>\n",
       "      <th>1</th>\n",
       "      <td>2025-01-10</td>\n",
       "      <td>Smartphone</td>\n",
       "      <td>South</td>\n",
       "      <td>Bob</td>\n",
       "      <td>5.0</td>\n",
       "      <td>500.0</td>\n",
       "      <td>2500.0</td>\n",
       "      <td>5.000000</td>\n",
       "    </tr>\n",
       "    <tr>\n",
       "      <th>2</th>\n",
       "      <td>2025-02-02</td>\n",
       "      <td>Tablet</td>\n",
       "      <td>NaN</td>\n",
       "      <td>Charlie</td>\n",
       "      <td>2.0</td>\n",
       "      <td>300.0</td>\n",
       "      <td>600.0</td>\n",
       "      <td>2.000000</td>\n",
       "    </tr>\n",
       "    <tr>\n",
       "      <th>3</th>\n",
       "      <td>2025-02-14</td>\n",
       "      <td>Monitor</td>\n",
       "      <td>West</td>\n",
       "      <td>NaN</td>\n",
       "      <td>4.0</td>\n",
       "      <td>200.0</td>\n",
       "      <td>800.0</td>\n",
       "      <td>4.000000</td>\n",
       "    </tr>\n",
       "    <tr>\n",
       "      <th>4</th>\n",
       "      <td>2025-03-01</td>\n",
       "      <td>Headphones</td>\n",
       "      <td>North</td>\n",
       "      <td>Ethan</td>\n",
       "      <td>NaN</td>\n",
       "      <td>100.0</td>\n",
       "      <td>NaN</td>\n",
       "      <td>3.777778</td>\n",
       "    </tr>\n",
       "    <tr>\n",
       "      <th>5</th>\n",
       "      <td>2025-03-18</td>\n",
       "      <td>Laptop</td>\n",
       "      <td>East</td>\n",
       "      <td>Alice</td>\n",
       "      <td>1.0</td>\n",
       "      <td>800.0</td>\n",
       "      <td>800.0</td>\n",
       "      <td>1.000000</td>\n",
       "    </tr>\n",
       "    <tr>\n",
       "      <th>6</th>\n",
       "      <td>2025-04-04</td>\n",
       "      <td>Smartphone</td>\n",
       "      <td>West</td>\n",
       "      <td>Bob</td>\n",
       "      <td>6.0</td>\n",
       "      <td>NaN</td>\n",
       "      <td>3300.0</td>\n",
       "      <td>6.000000</td>\n",
       "    </tr>\n",
       "    <tr>\n",
       "      <th>7</th>\n",
       "      <td>2025-04-20</td>\n",
       "      <td>Tablet</td>\n",
       "      <td>South</td>\n",
       "      <td>Charlie</td>\n",
       "      <td>3.0</td>\n",
       "      <td>280.0</td>\n",
       "      <td>840.0</td>\n",
       "      <td>3.000000</td>\n",
       "    </tr>\n",
       "    <tr>\n",
       "      <th>8</th>\n",
       "      <td>2025-05-09</td>\n",
       "      <td>NaN</td>\n",
       "      <td>North</td>\n",
       "      <td>Diana</td>\n",
       "      <td>2.0</td>\n",
       "      <td>220.0</td>\n",
       "      <td>440.0</td>\n",
       "      <td>2.000000</td>\n",
       "    </tr>\n",
       "    <tr>\n",
       "      <th>9</th>\n",
       "      <td>2025-06-15</td>\n",
       "      <td>Headphones</td>\n",
       "      <td>East</td>\n",
       "      <td>Ethan</td>\n",
       "      <td>7.0</td>\n",
       "      <td>90.0</td>\n",
       "      <td>630.0</td>\n",
       "      <td>7.000000</td>\n",
       "    </tr>\n",
       "    <tr>\n",
       "      <th>10</th>\n",
       "      <td>2025-07-01</td>\n",
       "      <td>Laptop</td>\n",
       "      <td>NaN</td>\n",
       "      <td>Alice</td>\n",
       "      <td>2.0</td>\n",
       "      <td>850.0</td>\n",
       "      <td>1700.0</td>\n",
       "      <td>2.000000</td>\n",
       "    </tr>\n",
       "    <tr>\n",
       "      <th>11</th>\n",
       "      <td>2025-07-10</td>\n",
       "      <td>Smartphone</td>\n",
       "      <td>West</td>\n",
       "      <td>Bob</td>\n",
       "      <td>5.0</td>\n",
       "      <td>510.0</td>\n",
       "      <td>NaN</td>\n",
       "      <td>5.000000</td>\n",
       "    </tr>\n",
       "    <tr>\n",
       "      <th>12</th>\n",
       "      <td>2025-07-25</td>\n",
       "      <td>Tablet</td>\n",
       "      <td>South</td>\n",
       "      <td>NaN</td>\n",
       "      <td>4.0</td>\n",
       "      <td>295.0</td>\n",
       "      <td>1180.0</td>\n",
       "      <td>4.000000</td>\n",
       "    </tr>\n",
       "    <tr>\n",
       "      <th>13</th>\n",
       "      <td>2025-08-02</td>\n",
       "      <td>Monitor</td>\n",
       "      <td>North</td>\n",
       "      <td>Ethan</td>\n",
       "      <td>3.0</td>\n",
       "      <td>210.0</td>\n",
       "      <td>630.0</td>\n",
       "      <td>3.000000</td>\n",
       "    </tr>\n",
       "    <tr>\n",
       "      <th>14</th>\n",
       "      <td>2025-08-12</td>\n",
       "      <td>Headphones</td>\n",
       "      <td>East</td>\n",
       "      <td>Alice</td>\n",
       "      <td>6.0</td>\n",
       "      <td>95.0</td>\n",
       "      <td>570.0</td>\n",
       "      <td>6.000000</td>\n",
       "    </tr>\n",
       "    <tr>\n",
       "      <th>15</th>\n",
       "      <td>2025-08-20</td>\n",
       "      <td>Laptop</td>\n",
       "      <td>South</td>\n",
       "      <td>Bob</td>\n",
       "      <td>NaN</td>\n",
       "      <td>900.0</td>\n",
       "      <td>NaN</td>\n",
       "      <td>3.777778</td>\n",
       "    </tr>\n",
       "    <tr>\n",
       "      <th>16</th>\n",
       "      <td>2025-08-25</td>\n",
       "      <td>Smartphone</td>\n",
       "      <td>West</td>\n",
       "      <td>Charlie</td>\n",
       "      <td>7.0</td>\n",
       "      <td>NaN</td>\n",
       "      <td>3850.0</td>\n",
       "      <td>7.000000</td>\n",
       "    </tr>\n",
       "    <tr>\n",
       "      <th>17</th>\n",
       "      <td>2025-09-01</td>\n",
       "      <td>Tablet</td>\n",
       "      <td>East</td>\n",
       "      <td>Diana</td>\n",
       "      <td>1.0</td>\n",
       "      <td>310.0</td>\n",
       "      <td>310.0</td>\n",
       "      <td>1.000000</td>\n",
       "    </tr>\n",
       "    <tr>\n",
       "      <th>18</th>\n",
       "      <td>2025-09-10</td>\n",
       "      <td>Monitor</td>\n",
       "      <td>North</td>\n",
       "      <td>Ethan</td>\n",
       "      <td>2.0</td>\n",
       "      <td>215.0</td>\n",
       "      <td>430.0</td>\n",
       "      <td>2.000000</td>\n",
       "    </tr>\n",
       "    <tr>\n",
       "      <th>19</th>\n",
       "      <td>2025-09-15</td>\n",
       "      <td>Headphones</td>\n",
       "      <td>South</td>\n",
       "      <td>Alice</td>\n",
       "      <td>5.0</td>\n",
       "      <td>100.0</td>\n",
       "      <td>500.0</td>\n",
       "      <td>5.000000</td>\n",
       "    </tr>\n",
       "  </tbody>\n",
       "</table>\n",
       "</div>"
      ],
      "text/plain": [
       "          Date     Product Region Salesperson  Units Sold  Unit Price  \\\n",
       "0   2025-01-05      Laptop  North       Alice         3.0       750.0   \n",
       "1   2025-01-10  Smartphone  South         Bob         5.0       500.0   \n",
       "2   2025-02-02      Tablet    NaN     Charlie         2.0       300.0   \n",
       "3   2025-02-14     Monitor   West         NaN         4.0       200.0   \n",
       "4   2025-03-01  Headphones  North       Ethan         NaN       100.0   \n",
       "5   2025-03-18      Laptop   East       Alice         1.0       800.0   \n",
       "6   2025-04-04  Smartphone   West         Bob         6.0         NaN   \n",
       "7   2025-04-20      Tablet  South     Charlie         3.0       280.0   \n",
       "8   2025-05-09         NaN  North       Diana         2.0       220.0   \n",
       "9   2025-06-15  Headphones   East       Ethan         7.0        90.0   \n",
       "10  2025-07-01      Laptop    NaN       Alice         2.0       850.0   \n",
       "11  2025-07-10  Smartphone   West         Bob         5.0       510.0   \n",
       "12  2025-07-25      Tablet  South         NaN         4.0       295.0   \n",
       "13  2025-08-02     Monitor  North       Ethan         3.0       210.0   \n",
       "14  2025-08-12  Headphones   East       Alice         6.0        95.0   \n",
       "15  2025-08-20      Laptop  South         Bob         NaN       900.0   \n",
       "16  2025-08-25  Smartphone   West     Charlie         7.0         NaN   \n",
       "17  2025-09-01      Tablet   East       Diana         1.0       310.0   \n",
       "18  2025-09-10     Monitor  North       Ethan         2.0       215.0   \n",
       "19  2025-09-15  Headphones  South       Alice         5.0       100.0   \n",
       "\n",
       "    Total Sales  units sold filled  \n",
       "0        2250.0           3.000000  \n",
       "1        2500.0           5.000000  \n",
       "2         600.0           2.000000  \n",
       "3         800.0           4.000000  \n",
       "4           NaN           3.777778  \n",
       "5         800.0           1.000000  \n",
       "6        3300.0           6.000000  \n",
       "7         840.0           3.000000  \n",
       "8         440.0           2.000000  \n",
       "9         630.0           7.000000  \n",
       "10       1700.0           2.000000  \n",
       "11          NaN           5.000000  \n",
       "12       1180.0           4.000000  \n",
       "13        630.0           3.000000  \n",
       "14        570.0           6.000000  \n",
       "15          NaN           3.777778  \n",
       "16       3850.0           7.000000  \n",
       "17        310.0           1.000000  \n",
       "18        430.0           2.000000  \n",
       "19        500.0           5.000000  "
      ]
     },
     "execution_count": 65,
     "metadata": {},
     "output_type": "execute_result"
    }
   ],
   "source": [
    "df1"
   ]
  },
  {
   "cell_type": "code",
   "execution_count": null,
   "id": "14fe3241",
   "metadata": {},
   "outputs": [],
   "source": []
  },
  {
   "cell_type": "code",
   "execution_count": null,
   "id": "c6edec1a",
   "metadata": {},
   "outputs": [],
   "source": []
  },
  {
   "cell_type": "code",
   "execution_count": null,
   "id": "8ad04465",
   "metadata": {},
   "outputs": [],
   "source": []
  },
  {
   "cell_type": "code",
   "execution_count": null,
   "id": "b44b02d6",
   "metadata": {},
   "outputs": [],
   "source": []
  },
  {
   "cell_type": "code",
   "execution_count": null,
   "id": "b9d51777",
   "metadata": {},
   "outputs": [],
   "source": []
  }
 ],
 "metadata": {
  "kernelspec": {
   "display_name": "base",
   "language": "python",
   "name": "python3"
  },
  "language_info": {
   "codemirror_mode": {
    "name": "ipython",
    "version": 3
   },
   "file_extension": ".py",
   "mimetype": "text/x-python",
   "name": "python",
   "nbconvert_exporter": "python",
   "pygments_lexer": "ipython3",
   "version": "3.13.5"
  }
 },
 "nbformat": 4,
 "nbformat_minor": 5
}
